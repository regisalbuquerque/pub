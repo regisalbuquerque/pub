{
 "cells": [
  {
   "cell_type": "code",
   "execution_count": 1,
   "metadata": {},
   "outputs": [],
   "source": [
    "public void executa_teste(double limInferior, double limSuperior, int quantidade)\n",
    "{\n",
    "    Random r = new Random();\n",
    "\n",
    "    for (int i = 0; i < quantidade; i++)\n",
    "    {\n",
    "        double randomValue = limInferior + (limSuperior - limInferior) * r.nextDouble();\n",
    "        System.out.println(randomValue);\n",
    "    }\n",
    "}"
   ]
  },
  {
   "cell_type": "code",
   "execution_count": 2,
   "metadata": {},
   "outputs": [
    {
     "name": "stdout",
     "output_type": "stream",
     "text": [
      "34.786511546008064\n",
      "57.469358749363685\n",
      "77.05805452985008\n",
      "99.0452919828299\n",
      "93.47072123674677\n",
      "80.75034708397548\n",
      "7.306587061200848\n",
      "14.086128667391582\n",
      "98.54805286854744\n",
      "25.126553870137347\n",
      "69.61698085899715\n"
     ]
    }
   ],
   "source": [
    "executa_teste(0.001, 100, 11);"
   ]
  },
  {
   "cell_type": "code",
   "execution_count": 3,
   "metadata": {},
   "outputs": [
    {
     "name": "stdout",
     "output_type": "stream",
     "text": [
      "0.03550789789407556\n",
      "0.15870567785306192\n",
      "0.41865973686216396\n",
      "0.13028111698301806\n",
      "0.17221312009927048\n",
      "0.41720741857814636\n",
      "0.1299575894396325\n",
      "0.07434786467307417\n",
      "0.23617113121958325\n",
      "0.2017860043008133\n",
      "0.1637291966098662\n"
     ]
    }
   ],
   "source": [
    "executa_teste(0.001, 0.5, 11);"
   ]
  },
  {
   "cell_type": "code",
   "execution_count": 4,
   "metadata": {},
   "outputs": [],
   "source": [
    "import java.util.stream.DoubleStream;\n",
    "public void executa_teste2(double limInferior, double limSuperior, int quantidade)\n",
    "{\n",
    "    Random r = new Random();\n",
    "\n",
    "    DoubleStream doubleStream = r.doubles(quantidade, limInferior, limSuperior);\n",
    "    doubleStream.limit(quantidade).forEach(System.out::println);\n",
    "}"
   ]
  },
  {
   "cell_type": "code",
   "execution_count": 5,
   "metadata": {},
   "outputs": [
    {
     "name": "stdout",
     "output_type": "stream",
     "text": [
      "94.99778877419138\n",
      "80.5698099509209\n",
      "21.327082272936956\n",
      "60.064082386508716\n",
      "72.3264682050185\n",
      "68.17765076036294\n",
      "59.364308184099976\n",
      "46.88156547957202\n",
      "27.535220039915302\n",
      "30.111161734954056\n",
      "30.385054507073765\n"
     ]
    }
   ],
   "source": [
    "executa_teste2(0.001, 100, 11);"
   ]
  },
  {
   "cell_type": "code",
   "execution_count": 6,
   "metadata": {},
   "outputs": [
    {
     "name": "stdout",
     "output_type": "stream",
     "text": [
      "0.33820252367895726\n",
      "0.4168868866844082\n",
      "0.16237906034750177\n",
      "0.09637466529166655\n",
      "0.48438104226136314\n",
      "0.058704456265007234\n",
      "0.07425094005606946\n",
      "0.17603153331541785\n",
      "0.01775695927979948\n",
      "0.28380894026803316\n",
      "0.46799948322145946\n"
     ]
    }
   ],
   "source": [
    "executa_teste2(0.001, 0.5, 11);"
   ]
  }
 ],
 "metadata": {
  "kernelspec": {
   "display_name": "Java",
   "language": "java",
   "name": "java"
  },
  "language_info": {
   "codemirror_mode": "java",
   "file_extension": ".java",
   "mimetype": "text/x-java-source",
   "name": "Java",
   "pygments_lexer": "java",
   "version": "11.0.1+13-LTS"
  }
 },
 "nbformat": 4,
 "nbformat_minor": 2
}
